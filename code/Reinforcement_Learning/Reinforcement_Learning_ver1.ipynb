{
 "cells": [
  {
   "cell_type": "markdown",
   "id": "f9d98fc2",
   "metadata": {},
   "source": [
    "# 사용한 라이브러리"
   ]
  },
  {
   "cell_type": "code",
   "execution_count": 1,
   "id": "54c451e7",
   "metadata": {},
   "outputs": [
    {
     "name": "stdout",
     "output_type": "stream",
     "text": [
      "WARNING:tensorflow:From C:\\Users\\MaengJiwoo\\anaconda3\\Lib\\site-packages\\keras\\src\\losses.py:2976: The name tf.losses.sparse_softmax_cross_entropy is deprecated. Please use tf.compat.v1.losses.sparse_softmax_cross_entropy instead.\n",
      "\n"
     ]
    }
   ],
   "source": [
    "import random\n",
    "import numpy as np\n",
    "from collections import deque\n",
    "from tensorflow.keras.layers import Dense\n",
    "from tensorflow.keras.optimizers import Adam\n",
    "from tensorflow.keras.initializers import RandomUniform\n",
    "import tensorflow as tf\n",
    "import matplotlib.pyplot as plt"
   ]
  },
  {
   "cell_type": "markdown",
   "id": "bff64635",
   "metadata": {},
   "source": [
    "# NN"
   ]
  },
  {
   "cell_type": "code",
   "execution_count": 2,
   "id": "46e53479",
   "metadata": {},
   "outputs": [],
   "source": [
    "class NN(tf.keras.Model):\n",
    "    def __init__(self, action_size):\n",
    "        super(NN, self).__init__()\n",
    "        self.fc1 = Dense(24, activation = 'relu')\n",
    "        self.fc2 = Dense(24, activation = 'relu')\n",
    "        self.fc_out = Dense(action_size, kernel_initializer = RandomUniform(-1e-3, 1e-3))\n",
    "\n",
    "    def call(self, x):\n",
    "        x = self.fc1(x)\n",
    "        x = self.fc2(x)\n",
    "        q = self.fc_out(x)\n",
    "        return q"
   ]
  },
  {
   "cell_type": "markdown",
   "id": "ff79a812",
   "metadata": {},
   "source": [
    "# DQN"
   ]
  },
  {
   "cell_type": "code",
   "execution_count": 3,
   "id": "175e4725",
   "metadata": {},
   "outputs": [],
   "source": [
    "class DQN:\n",
    "    def __init__(self, state_size, action_size):\n",
    "        self.state_size = state_size\n",
    "        self.action_size = action_size\n",
    "\n",
    "        self.discount_factor = 0.99\n",
    "        self.learning_rate = 0.001\n",
    "        self.epsilon = 1.0\n",
    "        self.epsilon_decay = 0.999\n",
    "        self.epsilon_min = 0.001\n",
    "        self.batch_size = 64\n",
    "        self.train_start = 1000\n",
    "\n",
    "        self.memory = deque(maxlen = 2000)\n",
    "\n",
    "        self.model = NN(self.action_size)\n",
    "        self.target_model = NN(self.action_size)\n",
    "        self.optimizer = Adam(learning_rate = self.learning_rate)\n",
    "\n",
    "        self.update_target_model()\n",
    "\n",
    "    def update_target_model(self):\n",
    "        self.target_model.set_weights(self.model.get_weights())\n",
    "\n",
    "    def get_action(self, state):\n",
    "        if np.random.rand() <= self.epsilon:\n",
    "            return random.randrange(self.action_size)\n",
    "        else:\n",
    "            q = self.model(state) # 리스트 형태로 반환됨\n",
    "            return np.argmax(q[0])\n",
    "\n",
    "    def append_sample(self, state, action, reward, next_state, done):\n",
    "        self.memory.append((state, action, reward, next_state, done))\n",
    "\n",
    "    def train_model(self):\n",
    "        if self.epsilon > self.epsilon_min:\n",
    "            self.epsilon *= self.epsilon_decay\n",
    "            \n",
    "        mini_batch = random.sample(self.memory, self.batch_size)\n",
    "        states = np.array([sample[0][0] for sample in mini_batch])\n",
    "        actions = np.array([sample[1] for sample in mini_batch])\n",
    "        rewards = np.array([sample[2] for sample in mini_batch])\n",
    "        next_states = np.array([sample[3][0] for sample in mini_batch])\n",
    "        dones = np.array([sample[4] for sample in mini_batch])\n",
    "\n",
    "        model_params = self.model.trainable_variables\n",
    "            \n",
    "        with tf.GradientTape() as tape:\n",
    "            predicts = self.model(states)\n",
    "            one_hot_action = tf.one_hot(actions , self.action_size)\n",
    "            predicts = tf.reduce_sum(one_hot_action * predicts, axis=1)\n",
    "        \n",
    "            target_predicts = self.target_model(next_states)\n",
    "            target_predicts = tf.stop_gradient(target_predicts)\n",
    "        \n",
    "            max_q = np.amax(target_predicts, axis=-1)\n",
    "            targets = rewards + (1-dones) * self.discount_factor * max_q\n",
    "            loss = tf.reduce_mean(tf.square(targets - predicts))\n",
    "        \n",
    "        grads = tape.gradient(loss, model_params)\n",
    "        self.optimizer.apply_gradients(zip(grads, model_params))"
   ]
  },
  {
   "cell_type": "markdown",
   "id": "34698289",
   "metadata": {},
   "source": [
    "# parameter 정의"
   ]
  },
  {
   "cell_type": "code",
   "execution_count": 4,
   "id": "3ce0e60a",
   "metadata": {},
   "outputs": [
    {
     "name": "stdout",
     "output_type": "stream",
     "text": [
      "WARNING:tensorflow:From C:\\Users\\MaengJiwoo\\anaconda3\\Lib\\site-packages\\keras\\src\\backend.py:873: The name tf.get_default_graph is deprecated. Please use tf.compat.v1.get_default_graph instead.\n",
      "\n"
     ]
    }
   ],
   "source": [
    "state_size = 10\n",
    "action_size = 3\n",
    "index = 0 # GRU\n",
    "agent = DQN(state_size, action_size)\n",
    "\n",
    "scores, episodes = [], []\n",
    "score_avg = 0\n",
    "\n",
    "EPISODES = 40000"
   ]
  },
  {
   "cell_type": "markdown",
   "id": "20397451",
   "metadata": {},
   "source": [
    "# GRU 모델의 출력 데이터 불러오기"
   ]
  },
  {
   "cell_type": "code",
   "execution_count": 5,
   "id": "e6a3c0a1",
   "metadata": {},
   "outputs": [
    {
     "data": {
      "text/plain": [
       "(1, 7804)"
      ]
     },
     "execution_count": 5,
     "metadata": {},
     "output_type": "execute_result"
    }
   ],
   "source": [
    "gru_output = np.load('gru_output.npy')\n",
    "gru_output.shape # 데이터 크기 확인"
   ]
  },
  {
   "cell_type": "code",
   "execution_count": 6,
   "id": "f4c6a9c4",
   "metadata": {},
   "outputs": [
    {
     "name": "stdout",
     "output_type": "stream",
     "text": [
      "[[71769.09 70623.95 69895.67 ... 70131.1  68497.76 67133.25]]\n"
     ]
    }
   ],
   "source": [
    "gru_output.shape[1] # 두번째 차원의 크기가 필요\n",
    "print(gru_output)"
   ]
  },
  {
   "cell_type": "code",
   "execution_count": 7,
   "id": "054df5be",
   "metadata": {},
   "outputs": [
    {
     "data": {
      "image/png": "[encoded data removed]",
      "text/plain": [
       "<Figure size 640x480 with 1 Axes>"
      ]
     },
     "metadata": {},
     "output_type": "display_data"
    }
   ],
   "source": [
    "plt.plot(gru_output[0][:])\n",
    "plt.show()"
   ]
  },
  {
   "cell_type": "markdown",
   "id": "0f66fb81",
   "metadata": {},
   "source": [
    "# EPISODES"
   ]
  },
  {
   "cell_type": "code",
   "execution_count": 8,
   "id": "33bcad5a",
   "metadata": {
    "scrolled": true
   },
   "outputs": [
    {
     "ename": "ValueError",
     "evalue": "cannot reshape array of size 1 into shape (1,10)",
     "output_type": "error",
     "traceback": [
      "\u001b[1;31m---------------------------------------------------------------------------\u001b[0m",
      "\u001b[1;31mValueError\u001b[0m                                Traceback (most recent call last)",
      "Cell \u001b[1;32mIn[8], line 6\u001b[0m\n\u001b[0;32m      3\u001b[0m score \u001b[38;5;241m=\u001b[39m \u001b[38;5;241m0\u001b[39m\n\u001b[0;32m      5\u001b[0m state \u001b[38;5;241m=\u001b[39m gru_output[\u001b[38;5;241m0\u001b[39m][\u001b[38;5;241m0\u001b[39m] \u001b[38;5;66;03m# 전력 수요량 데이터 한 점\u001b[39;00m\n\u001b[1;32m----> 6\u001b[0m state \u001b[38;5;241m=\u001b[39m np\u001b[38;5;241m.\u001b[39mreshape(state, [\u001b[38;5;241m1\u001b[39m, state_size])\n\u001b[0;32m      8\u001b[0m data_length \u001b[38;5;241m=\u001b[39m gru_output\u001b[38;5;241m.\u001b[39mshape[\u001b[38;5;241m1\u001b[39m]\n\u001b[0;32m      9\u001b[0m count \u001b[38;5;241m=\u001b[39m \u001b[38;5;241m0\u001b[39m\n",
      "File \u001b[1;32m<__array_function__ internals>:200\u001b[0m, in \u001b[0;36mreshape\u001b[1;34m(*args, **kwargs)\u001b[0m\n",
      "File \u001b[1;32m~\\anaconda3\\Lib\\site-packages\\numpy\\core\\fromnumeric.py:298\u001b[0m, in \u001b[0;36mreshape\u001b[1;34m(a, newshape, order)\u001b[0m\n\u001b[0;32m    198\u001b[0m \u001b[38;5;129m@array_function_dispatch\u001b[39m(_reshape_dispatcher)\n\u001b[0;32m    199\u001b[0m \u001b[38;5;28;01mdef\u001b[39;00m \u001b[38;5;21mreshape\u001b[39m(a, newshape, order\u001b[38;5;241m=\u001b[39m\u001b[38;5;124m'\u001b[39m\u001b[38;5;124mC\u001b[39m\u001b[38;5;124m'\u001b[39m):\n\u001b[0;32m    200\u001b[0m \u001b[38;5;250m    \u001b[39m\u001b[38;5;124;03m\"\"\"\u001b[39;00m\n\u001b[0;32m    201\u001b[0m \u001b[38;5;124;03m    Gives a new shape to an array without changing its data.\u001b[39;00m\n\u001b[0;32m    202\u001b[0m \n\u001b[1;32m   (...)\u001b[0m\n\u001b[0;32m    296\u001b[0m \u001b[38;5;124;03m           [5, 6]])\u001b[39;00m\n\u001b[0;32m    297\u001b[0m \u001b[38;5;124;03m    \"\"\"\u001b[39;00m\n\u001b[1;32m--> 298\u001b[0m     \u001b[38;5;28;01mreturn\u001b[39;00m _wrapfunc(a, \u001b[38;5;124m'\u001b[39m\u001b[38;5;124mreshape\u001b[39m\u001b[38;5;124m'\u001b[39m, newshape, order\u001b[38;5;241m=\u001b[39morder)\n",
      "File \u001b[1;32m~\\anaconda3\\Lib\\site-packages\\numpy\\core\\fromnumeric.py:57\u001b[0m, in \u001b[0;36m_wrapfunc\u001b[1;34m(obj, method, *args, **kwds)\u001b[0m\n\u001b[0;32m     54\u001b[0m     \u001b[38;5;28;01mreturn\u001b[39;00m _wrapit(obj, method, \u001b[38;5;241m*\u001b[39margs, \u001b[38;5;241m*\u001b[39m\u001b[38;5;241m*\u001b[39mkwds)\n\u001b[0;32m     56\u001b[0m \u001b[38;5;28;01mtry\u001b[39;00m:\n\u001b[1;32m---> 57\u001b[0m     \u001b[38;5;28;01mreturn\u001b[39;00m bound(\u001b[38;5;241m*\u001b[39margs, \u001b[38;5;241m*\u001b[39m\u001b[38;5;241m*\u001b[39mkwds)\n\u001b[0;32m     58\u001b[0m \u001b[38;5;28;01mexcept\u001b[39;00m \u001b[38;5;167;01mTypeError\u001b[39;00m:\n\u001b[0;32m     59\u001b[0m     \u001b[38;5;66;03m# A TypeError occurs if the object does have such a method in its\u001b[39;00m\n\u001b[0;32m     60\u001b[0m     \u001b[38;5;66;03m# class, but its signature is not identical to that of NumPy's. This\u001b[39;00m\n\u001b[1;32m   (...)\u001b[0m\n\u001b[0;32m     64\u001b[0m     \u001b[38;5;66;03m# Call _wrapit from within the except clause to ensure a potential\u001b[39;00m\n\u001b[0;32m     65\u001b[0m     \u001b[38;5;66;03m# exception has a traceback chain.\u001b[39;00m\n\u001b[0;32m     66\u001b[0m     \u001b[38;5;28;01mreturn\u001b[39;00m _wrapit(obj, method, \u001b[38;5;241m*\u001b[39margs, \u001b[38;5;241m*\u001b[39m\u001b[38;5;241m*\u001b[39mkwds)\n",
      "\u001b[1;31mValueError\u001b[0m: cannot reshape array of size 1 into shape (1,10)"
     ]
    }
   ],
   "source": [
    "for e in range(EPISODES):\n",
    "    done = False\n",
    "    score = 0\n",
    "    \n",
    "    state = gru_output[0][0] # 전력 수요량 데이터 한 점\n",
    "    state = np.reshape(state, [1, state_size])\n",
    "    \n",
    "    data_length = gru_output.shape[1]\n",
    "    count = 0\n",
    "    index = 1\n",
    "    while not done:\n",
    "        action = agent.get_action(state) # 내가 행동을 결정하는 방법\n",
    "        \n",
    "        if action == 0:\n",
    "            next_state = gru_output[0][index] - 10000 \n",
    "        elif action == 1:\n",
    "            next_state = gru_output[0][index]\n",
    "        else:\n",
    "            next_state = gru_output[0][index] + 10000\n",
    "    \n",
    "        next_state = np.reshape(next_state, [1, state_size]) # next_state를 [1, state_size]의 배열로 재배열 \n",
    "        #print(\"___________________________________\")\n",
    "        #print(f\"GRU의 출력 데이터 : {state}\")\n",
    "        \n",
    "        # 다음 state 인덱스로 이동\n",
    "        if index == data_length - 1:\n",
    "            done = True  # 데이터의 끝에 도달\n",
    "            \n",
    "        # reward 계산 > 이 부분은 후에 구체적으로 변경 다시 해야 함\n",
    "        if gru_output[0][index] == next_state:\n",
    "            reward = 1\n",
    "        else:\n",
    "            reward = -1\n",
    "        \n",
    "        if count == '내가 예측할 데이터 수':\n",
    "            done = True\n",
    "            \n",
    "        if reward < 0: #막 정한 수\n",
    "            done = True  \n",
    "        #print('보상 : ', reward)\n",
    "        index = index + 1\n",
    "        score += reward\n",
    "        agent.append_sample(state, action, reward, next_state, done)\n",
    "\n",
    "        if len(agent.memory) >= agent.train_start:\n",
    "            agent.train_model()\n",
    "\n",
    "        state = next_state\n",
    "\n",
    "        if done:\n",
    "            agent.update_target_model()\n",
    "            count = count + 1\n",
    "            print(f\"episode : {e} | score : {score}\")\n",
    "            print(\"___________________________________\")\n",
    "            scores.append(score_avg)\n",
    "            episodes.append(e)"
   ]
  },
  {
   "cell_type": "code",
   "execution_count": null,
   "id": "0cce5a14",
   "metadata": {},
   "outputs": [],
   "source": [
    "import matplotlib.pyplot as plt\n",
    "plt.plot(episodes, scores)"
   ]
  },
  {
   "cell_type": "code",
   "execution_count": null,
   "id": "9ec1b87d",
   "metadata": {},
   "outputs": [],
   "source": []
  }
 ],
 "metadata": {
  "kernelspec": {
   "display_name": "Python 3 (ipykernel)",
   "language": "python",
   "name": "python3"
  },
  "language_info": {
   "codemirror_mode": {
    "name": "ipython",
    "version": 3
   },
   "file_extension": ".py",
   "mimetype": "text/x-python",
   "name": "python",
   "nbconvert_exporter": "python",
   "pygments_lexer": "ipython3",
   "version": "3.11.5"
  }
 },
 "nbformat": 4,
 "nbformat_minor": 5
}
