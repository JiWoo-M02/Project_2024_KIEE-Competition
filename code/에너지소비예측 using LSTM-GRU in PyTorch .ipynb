{
 "cells": [
  {
   "cell_type": "markdown",
   "metadata": {},
   "source": [
    "# Energy consumption prediction using LSTM/GRU in PyTorch"
   ]
  },
  {
   "cell_type": "code",
   "execution_count": 1,
   "metadata": {},
   "outputs": [],
   "source": [
    "import os\n",
    "import time\n",
    "\n",
    "import numpy as np\n",
    "import pandas as pd\n",
    "import matplotlib.pyplot as plt\n",
    "\n",
    "import torch\n",
    "import torch.nn as nn\n",
    "from torch.utils.data import TensorDataset, DataLoader\n",
    "\n",
    "from tqdm.notebook import tqdm as tqdm_notebook\n",
    "from sklearn.preprocessing import MinMaxScaler"
   ]
  },
  {
   "cell_type": "markdown",
   "metadata": {},
   "source": [
    "## Exploratory Data Analysis (EDA)"
   ]
  },
  {
   "cell_type": "code",
   "execution_count": 2,
   "metadata": {
    "scrolled": false
   },
   "outputs": [
    {
     "name": "stdout",
     "output_type": "stream",
     "text": [
      "['korea_hourly_new.csv']\n"
     ]
    }
   ],
   "source": [
    "# Define data root directory\n",
    "data_dir = \"./new_data\"\n",
    "print(os.listdir(data_dir))"
   ]
  },
  {
   "cell_type": "code",
   "execution_count": 3,
   "metadata": {
    "scrolled": false
   },
   "outputs": [
    {
     "data": {
      "text/html": [
       "<div>\n",
       "<style scoped>\n",
       "    .dataframe tbody tr th:only-of-type {\n",
       "        vertical-align: middle;\n",
       "    }\n",
       "\n",
       "    .dataframe tbody tr th {\n",
       "        vertical-align: top;\n",
       "    }\n",
       "\n",
       "    .dataframe thead th {\n",
       "        text-align: right;\n",
       "    }\n",
       "</style>\n",
       "<table border=\"1\" class=\"dataframe\">\n",
       "  <thead>\n",
       "    <tr style=\"text-align: right;\">\n",
       "      <th></th>\n",
       "      <th>Datetime</th>\n",
       "      <th>korea_MW</th>\n",
       "    </tr>\n",
       "  </thead>\n",
       "  <tbody>\n",
       "    <tr>\n",
       "      <th>78139</th>\n",
       "      <td>2021-11-30 20:00</td>\n",
       "      <td>73662</td>\n",
       "    </tr>\n",
       "    <tr>\n",
       "      <th>78140</th>\n",
       "      <td>2021-11-30 21:00</td>\n",
       "      <td>71459</td>\n",
       "    </tr>\n",
       "    <tr>\n",
       "      <th>78141</th>\n",
       "      <td>2021-11-30 22:00</td>\n",
       "      <td>69255</td>\n",
       "    </tr>\n",
       "    <tr>\n",
       "      <th>78142</th>\n",
       "      <td>2021-11-30 23:00</td>\n",
       "      <td>67679</td>\n",
       "    </tr>\n",
       "    <tr>\n",
       "      <th>78143</th>\n",
       "      <td>2021-12-01 0:00</td>\n",
       "      <td>68181</td>\n",
       "    </tr>\n",
       "  </tbody>\n",
       "</table>\n",
       "</div>"
      ],
      "text/plain": [
       "               Datetime  korea_MW\n",
       "78139  2021-11-30 20:00     73662\n",
       "78140  2021-11-30 21:00     71459\n",
       "78141  2021-11-30 22:00     69255\n",
       "78142  2021-11-30 23:00     67679\n",
       "78143   2021-12-01 0:00     68181"
      ]
     },
     "execution_count": 3,
     "metadata": {},
     "output_type": "execute_result"
    }
   ],
   "source": [
    "df = pd.read_csv(os.path.join(data_dir, \"korea_hourly_new.csv\"))\n",
    "df.tail()"
   ]
  },
  {
   "cell_type": "markdown",
   "metadata": {},
   "source": [
    "## Create training instances by moving sliding window"
   ]
  },
  {
   "cell_type": "code",
   "execution_count": 4,
   "metadata": {},
   "outputs": [],
   "source": [
    "def move_sliding_window(data, window_size, inputs_cols_indices, label_col_index):\n",
    "    \"\"\"\n",
    "    data: numpy array including data\n",
    "    window_size: size of window\n",
    "    inputs_cols_indices: col indices to include\n",
    "    \"\"\"\n",
    "\n",
    "    # Calculate the number of instances that can be created from the data with the given window size\n",
    "    num_instances = len(data) - window_size\n",
    "    \n",
    "    # Initialize the arrays for inputs and labels\n",
    "    num_features = len(inputs_cols_indices)\n",
    "    inputs = np.zeros((num_instances, window_size, num_features))\n",
    "    labels = np.zeros((num_instances, 1))\n",
    "    \n",
    "    # Populate the inputs and labels arrays using the sliding window approach\n",
    "    for i in range(num_instances):\n",
    "        inputs[i] = data[i : i + window_size, inputs_cols_indices]\n",
    "        labels[i] = data[i + window_size, label_col_index]\n",
    "    \n",
    "    return inputs, labels"
   ]
  },
  {
   "cell_type": "markdown",
   "metadata": {},
   "source": [
    "## Integrate files to build the training set\n",
    "To speed things up, I will only be using `num_files_for_dataset` .csv files for creating my dataset. Feel free to run it yourself with the entire dataset if you have the time and computing capacity. "
   ]
  },
  {
   "cell_type": "code",
   "execution_count": 5,
   "metadata": {
    "scrolled": false
   },
   "outputs": [],
   "source": [
    "# consumption as label to predict\n",
    "label_col_index = 0  \n",
    "# use (consumption, hour, dayofweek, month, dayofyear) columns as features\n",
    "inputs_cols_indices = range(5)  \n",
    "\n",
    "# Define window_size period and split inputs/labels\n",
    "window_size = 10\n",
    "\n",
    "# The scaler objects will be stored in this dictionary \n",
    "# so that our output test data from the model can be re-scaled during evaluation\n",
    "label_scalers = {}\n",
    "train_x = []\n",
    "test_x = {}\n",
    "test_y = {}"
   ]
  },
  {
   "cell_type": "code",
   "execution_count": 6,
   "metadata": {},
   "outputs": [
    {
     "name": "stdout",
     "output_type": "stream",
     "text": [
      "['korea_hourly_new.csv']\n"
     ]
    }
   ],
   "source": [
    "# Skipping the files we're not using\n",
    "processing_files = [file for file in os.listdir(data_dir) if os.path.splitext(file)[1] == \".csv\"]\n",
    "num_files_for_dataset = 1\n",
    "print(processing_files)"
   ]
  },
  {
   "cell_type": "code",
   "execution_count": 7,
   "metadata": {},
   "outputs": [
    {
     "data": {
      "application/vnd.jupyter.widget-view+json": {
       "model_id": "52c137b5f50946a1b52f19691abf739c",
       "version_major": 2,
       "version_minor": 0
      },
      "text/plain": [
       "  0%|          | 0/1 [00:00<?, ?it/s]"
      ]
     },
     "metadata": {},
     "output_type": "display_data"
    },
    {
     "name": "stdout",
     "output_type": "stream",
     "text": [
      "Processing korea_hourly_new.csv ...\n",
      "__________________\n",
      "0        60178\n",
      "1        57862\n",
      "2        56165\n",
      "3        55135\n",
      "4        54450\n",
      "         ...  \n",
      "78139    73662\n",
      "78140    71459\n",
      "78141    69255\n",
      "78142    67679\n",
      "78143    68181\n",
      "Name: korea_MW, Length: 78144, dtype: int64\n",
      "------------------\n"
     ]
    }
   ],
   "source": [
    "for file in tqdm_notebook(processing_files[:num_files_for_dataset]):\n",
    "    print(f\"Processing {file} ...\")\n",
    "    # Store csv file in a Pandas DataFrame\n",
    "    df = pd.read_csv(os.path.join(data_dir, \"korea_hourly_new.csv\"), parse_dates=[\"Datetime\"])\n",
    "\n",
    "    # Processing the time data into suitable input formats\n",
    "    df[\"hour\"] = df.apply(lambda x: x[\"Datetime\"].hour, axis=1)\n",
    "    df[\"dayofweek\"] = df.apply(lambda x: x[\"Datetime\"].dayofweek, axis=1)\n",
    "    df[\"month\"] = df.apply(lambda x: x[\"Datetime\"].month, axis=1)\n",
    "    df[\"dayofyear\"] = df.apply(lambda x: x[\"Datetime\"].dayofyear, axis=1)\n",
    "    df = df.sort_values(\"Datetime\").drop(\"Datetime\", axis=1)\n",
    "    print(\"__________________\")\n",
    "    print(df[\"korea_MW\"])\n",
    "    print(\"------------------\")\n",
    "\n",
    "    # Scaling the input data\n",
    "    sc = MinMaxScaler()\n",
    "    label_sc = MinMaxScaler()\n",
    "    data = sc.fit_transform(df.values)\n",
    "\n",
    "    # Obtaining the scaler for the labels(usage data) so that output can be\n",
    "    # re-scaled to actual value during evaluation\n",
    "    label_sc.fit(df.iloc[:, label_col_index].values.reshape(-1, 1))\n",
    "    label_scalers[file] = label_sc\n",
    "\n",
    "    # Move the window\n",
    "    inputs, labels = move_sliding_window(\n",
    "        data,\n",
    "        window_size,\n",
    "        inputs_cols_indices=inputs_cols_indices,\n",
    "        label_col_index=label_col_index,\n",
    "    )\n",
    "\n",
    "    # CONCAT created instances from all .csv files.\n",
    "    # Split data into train/test portions and combining all data from different files into a single array\n",
    "    test_portion = int(0.1 * len(inputs))\n",
    "    if len(train_x) == 0:  # first iteration\n",
    "        train_x = inputs[:-test_portion]\n",
    "        train_y = labels[:-test_portion]\n",
    "    else:\n",
    "        train_x = np.concatenate((train_x, inputs[:-test_portion]))\n",
    "        train_y = np.concatenate((train_y, labels[:-test_portion]))\n",
    "    test_x[file] = inputs[-test_portion:]\n",
    "    test_y[file] = labels[-test_portion:]"
   ]
  },
  {
   "cell_type": "markdown",
   "metadata": {},
   "source": [
    "## What have we made?"
   ]
  },
  {
   "cell_type": "code",
   "execution_count": 8,
   "metadata": {},
   "outputs": [
    {
     "data": {
      "text/plain": [
       "(70321, 10, 5)"
      ]
     },
     "execution_count": 8,
     "metadata": {},
     "output_type": "execute_result"
    }
   ],
   "source": [
    "train_x.shape"
   ]
  },
  {
   "cell_type": "code",
   "execution_count": 9,
   "metadata": {},
   "outputs": [
    {
     "data": {
      "text/plain": [
       "(7813, 10, 5)"
      ]
     },
     "execution_count": 9,
     "metadata": {},
     "output_type": "execute_result"
    }
   ],
   "source": [
    "test_x[\"korea_hourly_new.csv\"].shape"
   ]
  },
  {
   "cell_type": "code",
   "execution_count": 10,
   "metadata": {},
   "outputs": [
    {
     "name": "stdout",
     "output_type": "stream",
     "text": [
      "test_x의 데이터는 inputs 리스트의 70321번째 데이터부터 시작됩니다.\n"
     ]
    }
   ],
   "source": [
    "# Calculate the test portion\n",
    "test_portion = int(0.1 * len(inputs))\n",
    "test_start_index = len(inputs) - test_portion\n",
    "\n",
    "print(f\"test_x의 데이터는 inputs 리스트의 {test_start_index}번째 데이터부터 시작됩니다.\")\n"
   ]
  },
  {
   "cell_type": "markdown",
   "metadata": {},
   "source": [
    "## Pytorch data loaders/generators"
   ]
  },
  {
   "cell_type": "markdown",
   "metadata": {},
   "source": [
    "To improve the speed of our training, we can process the data in batches so that the model does not need to update its weights as frequently. The `TensorDataset` and `DataLoader` classes are useful for splitting our data into batches and shuffling them."
   ]
  },
  {
   "cell_type": "code",
   "execution_count": 11,
   "metadata": {},
   "outputs": [],
   "source": [
    "batch_size = 1024\n",
    "\n",
    "train_data = TensorDataset(torch.from_numpy(train_x), torch.from_numpy(train_y))\n",
    "\n",
    "# Drop the last incomplete batch\n",
    "train_loader = DataLoader(\n",
    "    train_data, shuffle = True, batch_size = batch_size, drop_last = True\n",
    ")"
   ]
  },
  {
   "cell_type": "code",
   "execution_count": 12,
   "metadata": {},
   "outputs": [
    {
     "name": "stdout",
     "output_type": "stream",
     "text": [
      "Train Size: (70321, 10, 5), Batch Size: 1024, # of iterations per epoch: 68\n"
     ]
    }
   ],
   "source": [
    "print(\n",
    "    f\"Train Size: {train_x.shape}, Batch Size: {batch_size}, # of iterations per epoch: {int(train_x.shape[0]/batch_size)}\"\n",
    ")"
   ]
  },
  {
   "cell_type": "code",
   "execution_count": 13,
   "metadata": {},
   "outputs": [],
   "source": [
    "# release some memory\n",
    "del train_x, train_y"
   ]
  },
  {
   "cell_type": "markdown",
   "metadata": {},
   "source": [
    "We can also check if we have any GPUs to speed up our training time by many folds. If you’re using \"https://colab.research.google.com/\" with GPU to run this code, the training time will be significantly reduced."
   ]
  },
  {
   "cell_type": "code",
   "execution_count": 14,
   "metadata": {},
   "outputs": [],
   "source": [
    "# torch.cuda.is_available() checks and returns a Boolean True if a GPU is available, else it'll return False\n",
    "is_cuda = torch.cuda.is_available()\n",
    "\n",
    "# If we have a GPU available, we'll set our device to GPU. We'll use this device variable later in our code.\n",
    "if is_cuda:\n",
    "    device = torch.device(\"cuda\")\n",
    "    print(\"GPU is available\")\n",
    "else:\n",
    "    device = torch.device(\"cpu\")"
   ]
  },
  {
   "cell_type": "code",
   "execution_count": 17,
   "metadata": {},
   "outputs": [],
   "source": [
    "class GRUNet(nn.Module):\n",
    "    def __init__(self, input_dim, hidden_dim, output_dim, n_layers, drop_prob=0.2):\n",
    "        super(GRUNet, self).__init__()\n",
    "        self.hidden_dim = hidden_dim\n",
    "        self.n_layers = n_layers\n",
    "\n",
    "        self.gru = nn.GRU(\n",
    "            input_dim, hidden_dim, n_layers, batch_first=True, dropout=drop_prob\n",
    "        )\n",
    "        self.fc = nn.Linear(hidden_dim, output_dim)\n",
    "        self.relu = nn.ReLU()\n",
    "\n",
    "    def forward(self, x, h):\n",
    "        out, h = self.gru(x, h)\n",
    "        # print(out[:, -1].shape, h.shape)\n",
    "        # select hidden state of last timestamp (t=90) (1024, 256)\n",
    "        out = self.fc(self.relu(out[:, -1]))  # out[:, -1, :]\n",
    "        # print(out.shape) # (1024, 1)\n",
    "        return out, h\n",
    "\n",
    "    def init_hidden(self, batch_size):\n",
    "        # Initialze h_0 with zeros\n",
    "        weight = next(self.parameters()).data\n",
    "        hidden = (\n",
    "            weight.new(self.n_layers, batch_size, self.hidden_dim).zero_().to(device)\n",
    "        )\n",
    "        return hidden"
   ]
  },
  {
   "cell_type": "code",
   "execution_count": 18,
   "metadata": {},
   "outputs": [],
   "source": [
    "class LSTMNet(nn.Module):\n",
    "    def __init__(self, input_dim, hidden_dim, output_dim, n_layers, drop_prob=0.2):\n",
    "        super(LSTMNet, self).__init__()\n",
    "        self.hidden_dim = hidden_dim\n",
    "        self.n_layers = n_layers\n",
    "\n",
    "        self.lstm = nn.LSTM(\n",
    "            input_dim, hidden_dim, n_layers, batch_first=True, dropout=drop_prob\n",
    "        )\n",
    "        self.fc = nn.Linear(hidden_dim, output_dim)\n",
    "        self.relu = nn.ReLU()\n",
    "\n",
    "    def forward(self, x, h):\n",
    "        out, h = self.lstm(x, h)\n",
    "        out = self.fc(self.relu(out[:, -1]))\n",
    "        return out, h\n",
    "\n",
    "    def init_hidden(self, batch_size):\n",
    "        weight = next(self.parameters()).data\n",
    "        # Initialze h_0, c_0 with zeros\n",
    "        hidden = (\n",
    "            weight.new(self.n_layers, batch_size, self.hidden_dim)\n",
    "            .zero_()\n",
    "            .to(device),  # h_0\n",
    "            weight.new(self.n_layers, batch_size, self.hidden_dim).zero_().to(device),\n",
    "        )\n",
    "        return hidden"
   ]
  },
  {
   "cell_type": "code",
   "execution_count": 19,
   "metadata": {},
   "outputs": [],
   "source": [
    "def train(\n",
    "    train_loader,\n",
    "    learn_rate,\n",
    "    hidden_dim = 256,\n",
    "    n_layers = 2,\n",
    "    n_epochs = 10,\n",
    "    model_type = \"GRU\",\n",
    "    print_every = 100,\n",
    "):\n",
    "\n",
    "    input_dim = next(iter(train_loader))[0].shape[2]  # 5\n",
    "\n",
    "    # Batch generator (train_data, train_label)\n",
    "    # print(next(iter(train_loader))[0].shape, next(iter(train_loader))[1].shape) \n",
    "    # torch.Size([1024, 90, 5]) torch.Size([1024, 1])\n",
    "\n",
    "    output_dim = 1\n",
    "\n",
    "    # Instantiating the models\n",
    "    if model_type == \"GRU\":\n",
    "        model = GRUNet(input_dim, hidden_dim, output_dim, n_layers)\n",
    "    else:\n",
    "        model = LSTMNet(input_dim, hidden_dim, output_dim, n_layers)\n",
    "    model.to(device)\n",
    "\n",
    "    # Defining loss function and optimizer\n",
    "    criterion = nn.MSELoss()  # Mean Squared Error\n",
    "    optimizer = torch.optim.Adam(model.parameters(), lr=learn_rate)\n",
    "\n",
    "    model.train()\n",
    "    print(\"Starting Training of {} model\".format(model_type))\n",
    "    epoch_times = []\n",
    "\n",
    "    # Start training loop\n",
    "    for epoch in range(1, n_epochs + 1):\n",
    "        start_time = time.process_time()\n",
    "        h = model.init_hidden(batch_size)\n",
    "        avg_loss = 0.0\n",
    "        counter = 0\n",
    "        for x, label in train_loader:\n",
    "            counter += 1\n",
    "            if model_type == \"GRU\":\n",
    "                h = h.data\n",
    "            # Unpcak both h_0 and c_0\n",
    "            elif model_type == \"LSTM\":\n",
    "                h = tuple([e.data for e in h])\n",
    "\n",
    "            # Set the gradients to zero before starting to do backpropragation because\n",
    "            # PyTorch accumulates the gradients on subsequent backward passes\n",
    "            model.zero_grad()\n",
    "\n",
    "            out, h = model(x.to(device).float(), h)\n",
    "            loss = criterion(out, label.to(device).float())\n",
    "\n",
    "            # Perform backpropragation\n",
    "            loss.backward()\n",
    "            optimizer.step()\n",
    "\n",
    "            avg_loss += loss.item()\n",
    "            if counter % print_every == 0:\n",
    "                print(\n",
    "                    f\"Epoch {epoch} - Step: {counter}/{len(train_loader)} - Average Loss for Epoch: {avg_loss/counter}\"\n",
    "                )\n",
    "        current_time = time.process_time()\n",
    "\n",
    "        print(\n",
    "            f\"Epoch {epoch}/{n_epochs} Done, Total Loss: {avg_loss/len(train_loader)}\"\n",
    "        )\n",
    "\n",
    "        print(f\"Time Elapsed for Epoch: {current_time-start_time} seconds\")\n",
    "\n",
    "        epoch_times.append(current_time - start_time)\n",
    "\n",
    "    print(f\"Total Training Time: {sum(epoch_times)} seconds\")\n",
    "    return model"
   ]
  },
  {
   "cell_type": "markdown",
   "metadata": {},
   "source": [
    "## Train and Save the GRU model"
   ]
  },
  {
   "cell_type": "code",
   "execution_count": 17,
   "metadata": {},
   "outputs": [
    {
     "name": "stdout",
     "output_type": "stream",
     "text": [
      "Starting Training of GRU model\n",
      "Epoch 1/10 Done, Total Loss: 0.019127257003941956\n",
      "Time Elapsed for Epoch: 204.75 seconds\n",
      "Epoch 2/10 Done, Total Loss: 0.0023765558503595565\n",
      "Time Elapsed for Epoch: 214.6875 seconds\n",
      "Epoch 3/10 Done, Total Loss: 0.0015913646202534437\n",
      "Time Elapsed for Epoch: 207.71875 seconds\n",
      "Epoch 4/10 Done, Total Loss: 0.001235335472943809\n",
      "Time Elapsed for Epoch: 204.828125 seconds\n",
      "Epoch 5/10 Done, Total Loss: 0.0009576339327716542\n",
      "Time Elapsed for Epoch: 202.8125 seconds\n",
      "Epoch 6/10 Done, Total Loss: 0.0008472349787445958\n",
      "Time Elapsed for Epoch: 204.171875 seconds\n",
      "Epoch 7/10 Done, Total Loss: 0.0007134377982070231\n",
      "Time Elapsed for Epoch: 198.390625 seconds\n",
      "Epoch 8/10 Done, Total Loss: 0.0005992149055921746\n",
      "Time Elapsed for Epoch: 192.109375 seconds\n",
      "Epoch 9/10 Done, Total Loss: 0.0005166156149832258\n",
      "Time Elapsed for Epoch: 191.15625 seconds\n",
      "Epoch 10/10 Done, Total Loss: 0.0004814764076453524\n",
      "Time Elapsed for Epoch: 200.890625 seconds\n",
      "Total Training Time: 2021.515625 seconds\n"
     ]
    }
   ],
   "source": [
    "# seq_len = 90  # (timestamps)\n",
    "n_hidden = 256\n",
    "n_layers = 2\n",
    "n_epochs = 10\n",
    "print_every = 100\n",
    "lr = 0.001\n",
    "gru_model = train(\n",
    "    train_loader,\n",
    "    learn_rate = lr,\n",
    "    hidden_dim = n_hidden,\n",
    "    n_layers = n_layers,\n",
    "    n_epochs = n_epochs,\n",
    "    model_type = \"GRU\",\n",
    "    print_every = print_every,\n",
    ")"
   ]
  },
  {
   "cell_type": "code",
   "execution_count": 1,
   "metadata": {},
   "outputs": [
    {
     "ename": "NameError",
     "evalue": "name 'torch' is not defined",
     "output_type": "error",
     "traceback": [
      "\u001b[1;31m---------------------------------------------------------------------------\u001b[0m",
      "\u001b[1;31mNameError\u001b[0m                                 Traceback (most recent call last)",
      "Cell \u001b[1;32mIn[1], line 1\u001b[0m\n\u001b[1;32m----> 1\u001b[0m torch\u001b[38;5;241m.\u001b[39msave(gru_model\u001b[38;5;241m.\u001b[39mstate_dict(), )\n\u001b[0;32m      2\u001b[0m model_scripted \u001b[38;5;241m=\u001b[39m torch\u001b[38;5;241m.\u001b[39mjit\u001b[38;5;241m.\u001b[39mscript(gru_model)\n\u001b[0;32m      3\u001b[0m model_scripted\u001b[38;5;241m.\u001b[39msave(\u001b[38;5;124m\"\u001b[39m\u001b[38;5;124m./models/gru_model_1.pt\u001b[39m\u001b[38;5;124m\"\u001b[39m)\n",
      "\u001b[1;31mNameError\u001b[0m: name 'torch' is not defined"
     ]
    }
   ],
   "source": [
    "torch.save(gru_model.state_dict(), )\n",
    "model_scripted = torch.jit.script(gru_model)\n",
    "model_scripted.save(\"./models/gru_model_1.pt\")"
   ]
  },
  {
   "cell_type": "markdown",
   "metadata": {},
   "source": [
    "## Train and Save an LSTM model"
   ]
  },
  {
   "cell_type": "code",
   "execution_count": 19,
   "metadata": {},
   "outputs": [
    {
     "name": "stdout",
     "output_type": "stream",
     "text": [
      "Starting Training of LSTM model\n",
      "Epoch 1/10 Done, Total Loss: 0.035427263595492524\n",
      "Time Elapsed for Epoch: 148.234375 seconds\n",
      "Epoch 2/10 Done, Total Loss: 0.006273273597745334\n",
      "Time Elapsed for Epoch: 144.046875 seconds\n",
      "Epoch 3/10 Done, Total Loss: 0.002605476974756183\n",
      "Time Elapsed for Epoch: 152.796875 seconds\n",
      "Epoch 4/10 Done, Total Loss: 0.0021504597988335743\n",
      "Time Elapsed for Epoch: 135.046875 seconds\n",
      "Epoch 5/10 Done, Total Loss: 0.001880344405756606\n",
      "Time Elapsed for Epoch: 139.3125 seconds\n",
      "Epoch 6/10 Done, Total Loss: 0.0015125991588266676\n",
      "Time Elapsed for Epoch: 132.4375 seconds\n",
      "Epoch 7/10 Done, Total Loss: 0.001207666057298946\n",
      "Time Elapsed for Epoch: 140.6875 seconds\n",
      "Epoch 8/10 Done, Total Loss: 0.0009108657575458946\n",
      "Time Elapsed for Epoch: 140.53125 seconds\n",
      "Epoch 9/10 Done, Total Loss: 0.0007820134907139136\n",
      "Time Elapsed for Epoch: 140.59375 seconds\n",
      "Epoch 10/10 Done, Total Loss: 0.0006665121618425474\n",
      "Time Elapsed for Epoch: 145.828125 seconds\n",
      "Total Training Time: 1419.515625 seconds\n"
     ]
    }
   ],
   "source": [
    "n_hidden = 256\n",
    "n_layers = 2\n",
    "n_epochs = 10\n",
    "print_every = 100\n",
    "lr = 0.001\n",
    "\n",
    "lstm_model = train(\n",
    "    train_loader,\n",
    "    learn_rate = lr,\n",
    "    hidden_dim = n_hidden,\n",
    "    n_layers = n_layers,\n",
    "    n_epochs = n_epochs,\n",
    "    model_type = \"LSTM\",\n",
    "    print_every = print_every,\n",
    ")"
   ]
  },
  {
   "cell_type": "code",
   "execution_count": 20,
   "metadata": {},
   "outputs": [],
   "source": [
    "torch.save(lstm_model.state_dict(), \"./models/lstm_model_1.pt\")"
   ]
  },
  {
   "cell_type": "markdown",
   "metadata": {},
   "source": [
    "As we can see from the training time of both models, the GRU model is the clear winner in terms of speed, as we have mentioned earlier. The GRU finished 5 training epochs faster than the LSTM model."
   ]
  },
  {
   "cell_type": "markdown",
   "metadata": {},
   "source": [
    "# Evaluating models\n",
    "#### __Note: Running the following codes needs at least 16GB of memory.__\n",
    "Moving on to measuring the accuracy of both models, we'll now use our `evaluate()` function and test dataset."
   ]
  },
  {
   "cell_type": "markdown",
   "metadata": {},
   "source": [
    "## Load the GRU model"
   ]
  },
  {
   "cell_type": "code",
   "execution_count": 20,
   "metadata": {},
   "outputs": [],
   "source": [
    "# move device to cpu for evaluation to avoid GPU memory run\n",
    "device = \"cpu\""
   ]
  },
  {
   "cell_type": "code",
   "execution_count": 21,
   "metadata": {},
   "outputs": [
    {
     "data": {
      "text/plain": [
       "<All keys matched successfully>"
      ]
     },
     "execution_count": 21,
     "metadata": {},
     "output_type": "execute_result"
    }
   ],
   "source": [
    "hidden_dim = 256\n",
    "input_dim = 5\n",
    "output_dim = 1\n",
    "n_layers = 2\n",
    "gru_model = GRUNet(input_dim, hidden_dim, output_dim, n_layers)\n",
    "gru_model.load_state_dict(torch.load(\"./models/gru_model.pt\"))"
   ]
  },
  {
   "cell_type": "code",
   "execution_count": 22,
   "metadata": {},
   "outputs": [
    {
     "data": {
      "text/plain": [
       "GRUNet(\n",
       "  (gru): GRU(5, 256, num_layers=2, batch_first=True, dropout=0.2)\n",
       "  (fc): Linear(in_features=256, out_features=1, bias=True)\n",
       "  (relu): ReLU()\n",
       ")"
      ]
     },
     "execution_count": 22,
     "metadata": {},
     "output_type": "execute_result"
    }
   ],
   "source": [
    "# Move the model to the appropriate device\n",
    "gru_model.to(device)"
   ]
  },
  {
   "cell_type": "markdown",
   "metadata": {},
   "source": [
    "## Load the LSTM model"
   ]
  },
  {
   "cell_type": "code",
   "execution_count": 23,
   "metadata": {},
   "outputs": [
    {
     "data": {
      "text/plain": [
       "<All keys matched successfully>"
      ]
     },
     "execution_count": 23,
     "metadata": {},
     "output_type": "execute_result"
    }
   ],
   "source": [
    "hidden_dim = 256\n",
    "input_dim = 5\n",
    "output_dim = 1\n",
    "n_layers = 2\n",
    "lstm_model = LSTMNet(input_dim, hidden_dim, output_dim, n_layers)\n",
    "lstm_model.load_state_dict(torch.load(\"./models/lstm_model.pt\"))"
   ]
  },
  {
   "cell_type": "code",
   "execution_count": 24,
   "metadata": {},
   "outputs": [
    {
     "data": {
      "text/plain": [
       "LSTMNet(\n",
       "  (lstm): LSTM(5, 256, num_layers=2, batch_first=True, dropout=0.2)\n",
       "  (fc): Linear(in_features=256, out_features=1, bias=True)\n",
       "  (relu): ReLU()\n",
       ")"
      ]
     },
     "execution_count": 24,
     "metadata": {},
     "output_type": "execute_result"
    }
   ],
   "source": [
    "# Move the model to the appropriate device\n",
    "lstm_model.to(device)"
   ]
  },
  {
   "cell_type": "markdown",
   "metadata": {},
   "source": [
    "## Model Evaluation\n",
    "\n",
    "For the purpose of comparing the performance of both models as well, we'll being tracking the time it takes for the model to train and eventually comparing the final accuracy of both models on the test set. For our accuracy measure, we'll use ***Symmetric Mean Absolute Percentage Error (sMAPE)*** to evaluate the models. *sMAPE* is the sum of the **absolute difference** between the predicted and actual values divided by the average of the predicted and actual value, therefore giving a percentage measuring the amount of error. \n",
    "\n",
    "This is the formula for *sMAPE*:\n",
    "\n",
    "$sMAPE = \\frac{100%}{n} \\sum_{t=1}^n \\frac{|F_t - A_t|}{(|F_t + A_t|)/2}$"
   ]
  },
  {
   "cell_type": "code",
   "execution_count": 25,
   "metadata": {},
   "outputs": [],
   "source": [
    "np.save(f'inputs_window_{window_size}.npy', inputs)\n",
    "np.save(f'labels_window_{window_size}.npy', labels)"
   ]
  },
  {
   "cell_type": "code",
   "execution_count": 26,
   "metadata": {},
   "outputs": [],
   "source": [
    "def sMAPE(outputs, targets):\n",
    "    sMAPE = (\n",
    "        100\n",
    "        / len(targets)\n",
    "        * np.sum(np.abs(outputs - targets) / (np.abs(outputs + targets)) / 2)\n",
    "    )\n",
    "    return sMAPE"
   ]
  },
  {
   "cell_type": "code",
   "execution_count": 27,
   "metadata": {},
   "outputs": [],
   "source": [
    "def evaluate(model, test_x, test_y, label_scalers):\n",
    "    model.eval()\n",
    "    outputs = []\n",
    "    targets = []\n",
    "    start_time = time.process_time()\n",
    "    # get data of test data for each state\n",
    "    for file in test_x.keys():\n",
    "        inputs = torch.from_numpy(np.array(test_x[file]))\n",
    "        labels = torch.from_numpy(np.array(test_y[file]))\n",
    "\n",
    "        h = model.init_hidden(inputs.shape[0])\n",
    "\n",
    "        # predict outputs\n",
    "        with torch.no_grad():\n",
    "            out, h = model(inputs.to(device).float(), h)\n",
    "\n",
    "        outputs.append(\n",
    "            label_scalers[file]\n",
    "            .inverse_transform(out.cpu().detach().numpy())\n",
    "            .reshape(-1)\n",
    "        )\n",
    "\n",
    "        targets.append(\n",
    "            label_scalers[file].inverse_transform(labels.numpy()).reshape(-1)\n",
    "        )\n",
    "\n",
    "    # Merge all files\n",
    "    concatenated_outputs = np.concatenate(outputs)\n",
    "    concatenated_targets = np.concatenate(targets)\n",
    "\n",
    "    print(f\"Evaluation Time: {time.process_time()-start_time}\")\n",
    "    print(f\"sMAPE: {round(sMAPE(concatenated_outputs, concatenated_targets), 3)}%\")\n",
    "\n",
    "    # list of of targets/outputs for each state\n",
    "    return outputs, targets, sMAPE"
   ]
  },
  {
   "cell_type": "markdown",
   "metadata": {},
   "source": [
    "## Evaluate performance"
   ]
  },
  {
   "cell_type": "code",
   "execution_count": 28,
   "metadata": {},
   "outputs": [
    {
     "name": "stdout",
     "output_type": "stream",
     "text": [
      "Evaluation Time: 5.96875\n",
      "sMAPE: 0.42%\n"
     ]
    }
   ],
   "source": [
    "lstm_outputs, targets, lstm_sMAPE = evaluate(lstm_model, test_x, test_y, label_scalers)"
   ]
  },
  {
   "cell_type": "code",
   "execution_count": 29,
   "metadata": {},
   "outputs": [
    {
     "name": "stdout",
     "output_type": "stream",
     "text": [
      "Evaluation Time: 6.578125\n",
      "sMAPE: 0.465%\n"
     ]
    }
   ],
   "source": [
    "gru_outputs, targets, gru_sMAPE = evaluate(gru_model, test_x, test_y, label_scalers)"
   ]
  },
  {
   "cell_type": "markdown",
   "metadata": {},
   "source": [
    "While the GRU model may have made smaller errors and edged the LSTM model slightly in terms of performance accuracy, the difference is insignificant and thus inconclusive. There have been many other tests conducted by others comparing both these models but there has largely been no clear winner as to which is the better architecture overall."
   ]
  },
  {
   "cell_type": "markdown",
   "metadata": {},
   "source": [
    "# Some visualizations"
   ]
  },
  {
   "cell_type": "markdown",
   "metadata": {},
   "source": [
    "Lastly, let's do some visualizations on random sets of our predicted output vs the actual consumption data for some states."
   ]
  },
  {
   "cell_type": "code",
   "execution_count": 31,
   "metadata": {},
   "outputs": [],
   "source": [
    "states_list = list(test_x.keys())"
   ]
  },
  {
   "cell_type": "code",
   "execution_count": 32,
   "metadata": {},
   "outputs": [],
   "source": [
    "np.save('targets_1.npy', targets)\n",
    "np.save('gru_outputs_1.npy', gru_outputs)\n",
    "np.save('lstm_outputs_1.npy', lstm_outputs)"
   ]
  },
  {
   "cell_type": "code",
   "execution_count": 3,
   "metadata": {},
   "outputs": [],
   "source": [
    "gru_output = np.load('gru_outputs_1.npy')\n",
    "lstm_output = np.load('lstm_outputs_1.npy')\n",
    "real = np.load('targets_1.npy')"
   ]
  },
  {
   "cell_type": "code",
   "execution_count": 10,
   "metadata": {},
   "outputs": [
    {
     "data": {
      "text/plain": [
       "<matplotlib.legend.Legend at 0x1c84824c310>"
      ]
     },
     "execution_count": 10,
     "metadata": {},
     "output_type": "execute_result"
    },
    {
     "data": {
      "image/png": "[encoded data removed]",
      "text/plain": [
       "<Figure size 1400x1000 with 1 Axes>"
      ]
     },
     "metadata": {},
     "output_type": "display_data"
    }
   ],
   "source": [
    "plt.figure(figsize = (14, 10))\n",
    "plt.plot(real[0][-50:], color = \"b\", label = \"Actual\")\n",
    "plt.plot(gru_output[0][-50:], color = \"r\", label = \"GRU\")\n",
    "plt.plot(lstm_output[0][-50:], color = \"g\", label = \"LSTM\")\n",
    "plt.ylabel(\"Energy Consumption (MW)\")\n",
    "plt.title(f\"Energy Consumption for state\")\n",
    "plt.legend()"
   ]
  },
  {
   "cell_type": "code",
   "execution_count": null,
   "metadata": {},
   "outputs": [],
   "source": []
  }
 ],
 "metadata": {
  "kernelspec": {
   "display_name": "Python 3 (ipykernel)",
   "language": "python",
   "name": "python3"
  },
  "language_info": {
   "codemirror_mode": {
    "name": "ipython",
    "version": 3
   },
   "file_extension": ".py",
   "mimetype": "text/x-python",
   "name": "python",
   "nbconvert_exporter": "python",
   "pygments_lexer": "ipython3",
   "version": "3.11.5"
  },
  "varInspector": {
   "cols": {
    "lenName": 16,
    "lenType": 16,
    "lenVar": 40
   },
   "kernels_config": {
    "python": {
     "delete_cmd_postfix": "",
     "delete_cmd_prefix": "del ",
     "library": "var_list.py",
     "varRefreshCmd": "print(var_dic_list())"
    },
    "r": {
     "delete_cmd_postfix": ") ",
     "delete_cmd_prefix": "rm(",
     "library": "var_list.r",
     "varRefreshCmd": "cat(var_dic_list()) "
    }
   },
   "types_to_exclude": [
    "module",
    "function",
    "builtin_function_or_method",
    "instance",
    "_Feature"
   ],
   "window_display": false
  }
 },
 "nbformat": 4,
 "nbformat_minor": 1
}
